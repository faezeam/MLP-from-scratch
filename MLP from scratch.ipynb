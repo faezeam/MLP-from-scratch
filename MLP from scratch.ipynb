{
  "nbformat": 4,
  "nbformat_minor": 0,
  "metadata": {
    "colab": {
      "name": "ex2deep.ipynb",
      "provenance": [],
      "collapsed_sections": []
    },
    "kernelspec": {
      "name": "python3",
      "display_name": "Python 3"
    },
    "language_info": {
      "name": "python"
    }
  },
  "cells": [
    {
      "cell_type": "code",
      "metadata": {
        "colab": {
          "base_uri": "https://localhost:8080/"
        },
        "id": "6_tqqpsJjxb7",
        "outputId": "81a7c36c-2d9b-4455-cc17-6e2b748182bf"
      },
      "source": [
        "from google.colab import drive\n",
        "drive.mount('/content/mydrive')"
      ],
      "execution_count": null,
      "outputs": [
        {
          "output_type": "stream",
          "name": "stdout",
          "text": [
            "Mounted at /content/mydrive\n"
          ]
        }
      ]
    },
    {
      "cell_type": "code",
      "metadata": {
        "id": "b-eivUQX521-"
      },
      "source": [
        "save_path = \"/content/mydrive/My Drive/ex2deep/\""
      ],
      "execution_count": null,
      "outputs": []
    },
    {
      "cell_type": "code",
      "metadata": {
        "colab": {
          "base_uri": "https://localhost:8080/"
        },
        "id": "MuoYm723zan6",
        "outputId": "81294732-2122-4768-d746-f0f5fc2ab9e1"
      },
      "source": [
        "pip install progress"
      ],
      "execution_count": null,
      "outputs": [
        {
          "output_type": "stream",
          "name": "stdout",
          "text": [
            "Collecting progress\n",
            "  Downloading progress-1.6.tar.gz (7.8 kB)\n",
            "Building wheels for collected packages: progress\n",
            "  Building wheel for progress (setup.py) ... \u001b[?25l\u001b[?25hdone\n",
            "  Created wheel for progress: filename=progress-1.6-py3-none-any.whl size=9628 sha256=526c136d061fd5f6f47e6df7606a3af0598b3621f99ac67346c7d957bf69acf1\n",
            "  Stored in directory: /root/.cache/pip/wheels/8e/d7/61/498d8e27dc11e9805b01eb3539e2ee344436fc226daeb5fe87\n",
            "Successfully built progress\n",
            "Installing collected packages: progress\n",
            "Successfully installed progress-1.6\n"
          ]
        }
      ]
    },
    {
      "cell_type": "code",
      "metadata": {
        "id": "ztd4ws_mf99j"
      },
      "source": [
        "import os\n",
        "import cv2\n",
        "import scipy\n",
        "import numpy as np\n",
        "from tqdm import tqdm\n",
        "from mlxtend.preprocessing import shuffle_arrays_unison\n",
        "import numpy as np\n",
        "from progress.bar import IncrementalBar\n",
        "import sys\n",
        "import matplotlib.pyplot as plt\n",
        "import pandas as pd\n",
        "from sklearn.datasets import make_moons\n"
      ],
      "execution_count": null,
      "outputs": []
    },
    {
      "cell_type": "code",
      "metadata": {
        "colab": {
          "base_uri": "https://localhost:8080/"
        },
        "id": "QMrwOoCfBefr",
        "outputId": "cffeca04-eaa1-4b79-ae07-19f8a55f4dff"
      },
      "source": [
        "pip install python-mnist"
      ],
      "execution_count": null,
      "outputs": [
        {
          "output_type": "stream",
          "name": "stdout",
          "text": [
            "Collecting python-mnist\n",
            "  Downloading python_mnist-0.7-py2.py3-none-any.whl (9.6 kB)\n",
            "Installing collected packages: python-mnist\n",
            "Successfully installed python-mnist-0.7\n"
          ]
        }
      ]
    },
    {
      "cell_type": "code",
      "metadata": {
        "id": "ERhueAnIRUCQ"
      },
      "source": [
        "X,y=make_moons(n_samples=500,noise=0.01)"
      ],
      "execution_count": null,
      "outputs": []
    },
    {
      "cell_type": "code",
      "metadata": {
        "colab": {
          "base_uri": "https://localhost:8080/",
          "height": 278
        },
        "id": "V0bx5UKPR3vI",
        "outputId": "3f7e39f0-d9b5-4b57-ad2e-f2dbbb18144c"
      },
      "source": [
        "df=pd.DataFrame(dict(x=X[:,0] , y=X[:,1] , label=y))\n",
        "fig,ax=plt.subplots()\n",
        "colors={0:'red' , 1:'blue'}\n",
        "grouped=df.groupby('label')\n",
        "for key, group in grouped:\n",
        "  group.plot(ax=ax,kind='scatter',x='x',y='y',label=key , color=colors[key])"
      ],
      "execution_count": null,
      "outputs": [
        {
          "output_type": "display_data",
          "data": {
            "image/png": "[encoded data removed]",
            "text/plain": [
              "<Figure size 432x288 with 1 Axes>"
            ]
          },
          "metadata": {
            "needs_background": "light"
          }
        }
      ]
    },
    {
      "cell_type": "code",
      "metadata": {
        "colab": {
          "base_uri": "https://localhost:8080/"
        },
        "id": "DxwqfVz7TwXi",
        "outputId": "a5815cfd-6aae-458d-b8d1-0bb5e2738e43"
      },
      "source": [
        "target=df.label\n",
        "df.drop(['label'],axis=1,inplace=True)\n",
        "y=target\n",
        "print(y)\n",
        "X=df\n",
        "from sklearn.model_selection import train_test_split\n",
        "X_train,X_test,y_train,y_tets=train_test_split(X,y,test_size=0.2,random_state=1)"
      ],
      "execution_count": null,
      "outputs": [
        {
          "output_type": "stream",
          "name": "stdout",
          "text": [
            "0      0\n",
            "1      0\n",
            "2      0\n",
            "3      0\n",
            "4      0\n",
            "      ..\n",
            "495    0\n",
            "496    0\n",
            "497    1\n",
            "498    1\n",
            "499    0\n",
            "Name: label, Length: 500, dtype: int64\n"
          ]
        }
      ]
    },
    {
      "cell_type": "code",
      "metadata": {
        "colab": {
          "base_uri": "https://localhost:8080/"
        },
        "id": "mgAEdG1azyN4",
        "outputId": "b15fccb8-91a4-4d17-945a-73fe6829f898"
      },
      "source": [
        "from mnist import MNIST\n",
        "from tensorflow.keras.datasets import fashion_mnist\n",
        "from tensorflow.keras.utils import to_categorical\n",
        "((X_train, y_train), (X_test, y_test)) = fashion_mnist.load_data()\n"
      ],
      "execution_count": null,
      "outputs": [
        {
          "output_type": "stream",
          "name": "stdout",
          "text": [
            "Downloading data from https://storage.googleapis.com/tensorflow/tf-keras-datasets/train-labels-idx1-ubyte.gz\n",
            "32768/29515 [=================================] - 0s 0us/step\n",
            "40960/29515 [=========================================] - 0s 0us/step\n",
            "Downloading data from https://storage.googleapis.com/tensorflow/tf-keras-datasets/train-images-idx3-ubyte.gz\n",
            "26427392/26421880 [==============================] - 0s 0us/step\n",
            "26435584/26421880 [==============================] - 0s 0us/step\n",
            "Downloading data from https://storage.googleapis.com/tensorflow/tf-keras-datasets/t10k-labels-idx1-ubyte.gz\n",
            "16384/5148 [===============================================================================================] - 0s 0us/step\n",
            "Downloading data from https://storage.googleapis.com/tensorflow/tf-keras-datasets/t10k-images-idx3-ubyte.gz\n",
            "4423680/4422102 [==============================] - 0s 0us/step\n",
            "4431872/4422102 [==============================] - 0s 0us/step\n"
          ]
        }
      ]
    },
    {
      "cell_type": "code",
      "metadata": {
        "id": "0KWTZxnrz2CX"
      },
      "source": [
        "\n",
        "y_train = to_categorical(y_train)\n",
        "y_test = to_categorical(y_test)\n",
        "X=X_train\n",
        "y=y_train"
      ],
      "execution_count": null,
      "outputs": []
    },
    {
      "cell_type": "code",
      "metadata": {
        "id": "kYnES4P32auj",
        "colab": {
          "base_uri": "https://localhost:8080/",
          "height": 185
        },
        "outputId": "1d54f41f-6f23-49bb-fee6-6ca275a58203"
      },
      "source": [
        "np.save(save_path+ \"Xarray.npy\", X)\n",
        "np.save(save_path+ \"Yarray.npy\", Y)"
      ],
      "execution_count": null,
      "outputs": [
        {
          "output_type": "error",
          "ename": "NameError",
          "evalue": "ignored",
          "traceback": [
            "\u001b[0;31m---------------------------------------------------------------------------\u001b[0m",
            "\u001b[0;31mNameError\u001b[0m                                 Traceback (most recent call last)",
            "\u001b[0;32m<ipython-input-9-319eed24cc68>\u001b[0m in \u001b[0;36m<module>\u001b[0;34m()\u001b[0m\n\u001b[1;32m      1\u001b[0m \u001b[0mnp\u001b[0m\u001b[0;34m.\u001b[0m\u001b[0msave\u001b[0m\u001b[0;34m(\u001b[0m\u001b[0msave_path\u001b[0m\u001b[0;34m+\u001b[0m \u001b[0;34m\"Xarray.npy\"\u001b[0m\u001b[0;34m,\u001b[0m \u001b[0mX\u001b[0m\u001b[0;34m)\u001b[0m\u001b[0;34m\u001b[0m\u001b[0;34m\u001b[0m\u001b[0m\n\u001b[0;32m----> 2\u001b[0;31m \u001b[0mnp\u001b[0m\u001b[0;34m.\u001b[0m\u001b[0msave\u001b[0m\u001b[0;34m(\u001b[0m\u001b[0msave_path\u001b[0m\u001b[0;34m+\u001b[0m \u001b[0;34m\"Yarray.npy\"\u001b[0m\u001b[0;34m,\u001b[0m \u001b[0mY\u001b[0m\u001b[0;34m)\u001b[0m\u001b[0;34m\u001b[0m\u001b[0;34m\u001b[0m\u001b[0m\n\u001b[0m",
            "\u001b[0;31mNameError\u001b[0m: name 'Y' is not defined"
          ]
        }
      ]
    },
    {
      "cell_type": "code",
      "metadata": {
        "id": "6DnNq4bB5ohL",
        "colab": {
          "base_uri": "https://localhost:8080/",
          "height": 310
        },
        "outputId": "a0bed744-ccd8-41e4-ec1b-21fdc1195ef0"
      },
      "source": [
        "X=np.load(save_path+ \"Xarray.npy\")\n",
        "y=np.load(save_path+ \"Yarray.npy\")"
      ],
      "execution_count": null,
      "outputs": [
        {
          "output_type": "error",
          "ename": "FileNotFoundError",
          "evalue": "ignored",
          "traceback": [
            "\u001b[0;31m---------------------------------------------------------------------------\u001b[0m",
            "\u001b[0;31mFileNotFoundError\u001b[0m                         Traceback (most recent call last)",
            "\u001b[0;32m<ipython-input-10-c64612b057a0>\u001b[0m in \u001b[0;36m<module>\u001b[0;34m()\u001b[0m\n\u001b[1;32m      1\u001b[0m \u001b[0mX\u001b[0m\u001b[0;34m=\u001b[0m\u001b[0mnp\u001b[0m\u001b[0;34m.\u001b[0m\u001b[0mload\u001b[0m\u001b[0;34m(\u001b[0m\u001b[0msave_path\u001b[0m\u001b[0;34m+\u001b[0m \u001b[0;34m\"Xarray.npy\"\u001b[0m\u001b[0;34m)\u001b[0m\u001b[0;34m\u001b[0m\u001b[0;34m\u001b[0m\u001b[0m\n\u001b[0;32m----> 2\u001b[0;31m \u001b[0my\u001b[0m\u001b[0;34m=\u001b[0m\u001b[0mnp\u001b[0m\u001b[0;34m.\u001b[0m\u001b[0mload\u001b[0m\u001b[0;34m(\u001b[0m\u001b[0msave_path\u001b[0m\u001b[0;34m+\u001b[0m \u001b[0;34m\"Yarray.npy\"\u001b[0m\u001b[0;34m)\u001b[0m\u001b[0;34m\u001b[0m\u001b[0;34m\u001b[0m\u001b[0m\n\u001b[0m",
            "\u001b[0;32m/usr/local/lib/python3.7/dist-packages/numpy/lib/npyio.py\u001b[0m in \u001b[0;36mload\u001b[0;34m(file, mmap_mode, allow_pickle, fix_imports, encoding)\u001b[0m\n\u001b[1;32m    414\u001b[0m             \u001b[0mown_fid\u001b[0m \u001b[0;34m=\u001b[0m \u001b[0;32mFalse\u001b[0m\u001b[0;34m\u001b[0m\u001b[0;34m\u001b[0m\u001b[0m\n\u001b[1;32m    415\u001b[0m         \u001b[0;32melse\u001b[0m\u001b[0;34m:\u001b[0m\u001b[0;34m\u001b[0m\u001b[0;34m\u001b[0m\u001b[0m\n\u001b[0;32m--> 416\u001b[0;31m             \u001b[0mfid\u001b[0m \u001b[0;34m=\u001b[0m \u001b[0mstack\u001b[0m\u001b[0;34m.\u001b[0m\u001b[0menter_context\u001b[0m\u001b[0;34m(\u001b[0m\u001b[0mopen\u001b[0m\u001b[0;34m(\u001b[0m\u001b[0mos_fspath\u001b[0m\u001b[0;34m(\u001b[0m\u001b[0mfile\u001b[0m\u001b[0;34m)\u001b[0m\u001b[0;34m,\u001b[0m \u001b[0;34m\"rb\"\u001b[0m\u001b[0;34m)\u001b[0m\u001b[0;34m)\u001b[0m\u001b[0;34m\u001b[0m\u001b[0;34m\u001b[0m\u001b[0m\n\u001b[0m\u001b[1;32m    417\u001b[0m             \u001b[0mown_fid\u001b[0m \u001b[0;34m=\u001b[0m \u001b[0;32mTrue\u001b[0m\u001b[0;34m\u001b[0m\u001b[0;34m\u001b[0m\u001b[0m\n\u001b[1;32m    418\u001b[0m \u001b[0;34m\u001b[0m\u001b[0m\n",
            "\u001b[0;31mFileNotFoundError\u001b[0m: [Errno 2] No such file or directory: '/content/mydrive/My Drive/ex2deep/Yarray.npy'"
          ]
        }
      ]
    },
    {
      "cell_type": "markdown",
      "metadata": {
        "id": "zfH_xJLcy9zj"
      },
      "source": [
        "shuffle"
      ]
    },
    {
      "cell_type": "code",
      "metadata": {
        "id": "vRN_I8Ti5Squ"
      },
      "source": [
        "X2, y2 = shuffle_arrays_unison(arrays=[X, y])\n",
        "X,y=X2,y2"
      ],
      "execution_count": null,
      "outputs": []
    },
    {
      "cell_type": "markdown",
      "metadata": {
        "id": "27_Bg6GdzQCA"
      },
      "source": [
        "vectorization"
      ]
    },
    {
      "cell_type": "code",
      "metadata": {
        "id": "Nmp-ZAQHbqHz"
      },
      "source": [
        "X_train = X_train.reshape(X_train.shape[0], -1)"
      ],
      "execution_count": null,
      "outputs": []
    },
    {
      "cell_type": "code",
      "metadata": {
        "id": "OIRYZ0lg6Tb1"
      },
      "source": [
        "X_test = X_test.reshape(X_test.shape[0], -1)"
      ],
      "execution_count": null,
      "outputs": []
    },
    {
      "cell_type": "markdown",
      "metadata": {
        "id": "GuzlF21zzTyK"
      },
      "source": [
        "normalization"
      ]
    },
    {
      "cell_type": "code",
      "metadata": {
        "id": "WKesE5S4ajiw"
      },
      "source": [
        "X_manual_scaled = (X-X.min(axis=0)) / (X.max(axis=0)-X.min(axis=0))\n",
        "X=X_manual_scaled"
      ],
      "execution_count": null,
      "outputs": []
    },
    {
      "cell_type": "markdown",
      "metadata": {
        "id": "6FNVllH7l67i"
      },
      "source": [
        "train test **split**"
      ]
    },
    {
      "cell_type": "code",
      "metadata": {
        "id": "q0PzyLOCliH8"
      },
      "source": [
        "train_size = int(0.8 * len(X))\n",
        "x_train = X[:train_size]\n",
        "x_test = X[train_size:]\n",
        "y_train = y[:train_size]\n",
        "y_test = y[train_size:]\n"
      ],
      "execution_count": null,
      "outputs": []
    },
    {
      "cell_type": "code",
      "metadata": {
        "colab": {
          "base_uri": "https://localhost:8080/"
        },
        "id": "4R9dQeqJ4K_E",
        "outputId": "72b18a3d-3bcd-44ce-c527-50c8a4ebc222"
      },
      "source": [
        "X_train.shape"
      ],
      "execution_count": null,
      "outputs": [
        {
          "output_type": "execute_result",
          "data": {
            "text/plain": [
              "(60000, 784)"
            ]
          },
          "metadata": {},
          "execution_count": 16
        }
      ]
    },
    {
      "cell_type": "markdown",
      "metadata": {
        "id": "x9OJ6hmJygE6"
      },
      "source": [
        "# split"
      ]
    },
    {
      "cell_type": "code",
      "metadata": {
        "id": "Zyui5UKWye7-"
      },
      "source": [
        "\n",
        "class Static_split:\n",
        "    def __init__(self, test_split=0.2):\n",
        "        self.test_split = test_split\n",
        "\n",
        "    def set_data(self, X, y, shuffle=True):\n",
        "        if shuffle == False:\n",
        "            p = np.arange(X.shape[0])\n",
        "        else:\n",
        "            p = np.random.permutation(X.shape[0])\n",
        "\n",
        "        split = int(X.shape[0] * self.test_split)\n",
        "        self.X_test = X[p[:split]]\n",
        "        self.y_test = y[p[:split]]\n",
        "        self.X_train = X[p[split:]]\n",
        "        self.y_train = y[p[split:]]\n",
        "\n",
        "    def get_validation_data(self):\n",
        "        return self.X_test, self.y_test\n",
        "\n",
        "    def get_train_data(self):\n",
        "        return self.X_train, self.y_train\n",
        "\n",
        "\n",
        "class kfold_split:\n",
        "    def __init__(self, k=5):\n",
        "        self.k = k\n",
        "\n",
        "    def set_data(self, X, y, shuffle=True):\n",
        "        if shuffle == False:\n",
        "            p = np.arange(X.shape[0])\n",
        "        else:\n",
        "            p = np.random.permutation(X.shape[0])\n",
        "\n",
        "        self.split = np.random.randint(0, self.k, size=X.shape[0])\n",
        "        self.X = X\n",
        "        self.y = y\n",
        "\n",
        "    def __iter__(self):\n",
        "        return self.__next__()\n",
        "\n",
        "    def __next__(self):\n",
        "        for i in range(self.k):\n",
        "            yield self.X[self.split != i], self.y[self.split != i], self.X[self.split == i], self.y[self.split == i]"
      ],
      "execution_count": null,
      "outputs": []
    },
    {
      "cell_type": "markdown",
      "metadata": {
        "id": "cYcGE-M3ylpS"
      },
      "source": [
        "# Layers"
      ]
    },
    {
      "cell_type": "code",
      "metadata": {
        "id": "TYhRyTT5ynNa"
      },
      "source": [
        "\n",
        "class Dense:\n",
        "    def __init__(self, unit, activation=linear, input_dim=0, trainable=True):\n",
        "        self.unit = unit\n",
        "        self.__name__ = 'Dense'\n",
        "        self.name = \"dense\"\n",
        "        self.trainable = trainable\n",
        "        if type(activation) == str:\n",
        "            if activation.lower() == 'linear':\n",
        "                activation = Linear()\n",
        "            elif activation.lower() == 'sigmoid':\n",
        "                activation = Sigmoid()\n",
        "            elif activation.lower() == 'relu':\n",
        "                activation = Relu()\n",
        "            elif activation.lower() == 'softmax':\n",
        "                activation = Softmax()\n",
        "            elif activation.lower() == 'tanh':\n",
        "                activation = Tanh()\n",
        "            else:\n",
        "                raise Exception(\"Activation function \" + activation + \" not found!\")\n",
        "\n",
        "        self.activation = activation\n",
        "        self.input_dim = input_dim\n",
        "\n",
        "    def set_name(self, name):\n",
        "        self.name = name\n",
        "\n",
        "    def compile(self, input_dim=-1):\n",
        "        if input_dim == -1:\n",
        "            assert self.input_dim != 0\n",
        "        else:\n",
        "            self.input_dim = input_dim\n",
        "\n",
        "        self.W = (np.random.random(size=(self.input_dim + 1, self.unit))) - 0.5\n",
        "        self.W = self.W / (self.W.std() * (input_dim + self.unit) ** 0.5)\n",
        "\n",
        "    def __call__(self, X, activation=True):\n",
        "        if activation:\n",
        "            return self.activation(np.dot(np.hstack((X, np.ones((X.shape[0], 1)))), self.W))\n",
        "        else:\n",
        "            return np.dot(np.hstack((X, np.ones((X.shape[0], 1)))), self.W)\n",
        "\n",
        "    def set_trainable(self, trainable):\n",
        "        self.trainable = trainable\n",
        "\n",
        "    def update(self, dw):\n",
        "        if self.trainable:\n",
        "            self.W = self.W + dw\n",
        "\n",
        "    def reset_weights(self):\n",
        "        self.W = (np.random.random(size=self.W.shape)) - 0.5\n",
        "        self.W = self.W / (self.W.std() * (self.W.shape[0] + self.unit) ** 0.5)\n"
      ],
      "execution_count": null,
      "outputs": []
    },
    {
      "cell_type": "markdown",
      "metadata": {
        "id": "jHf9hPCE1oCG"
      },
      "source": [
        "# Activations"
      ]
    },
    {
      "cell_type": "code",
      "metadata": {
        "id": "a0In-CMm1mTd"
      },
      "source": [
        "\n",
        "\n",
        "# derivative function, gets function output as input and computer derivative\n",
        "class Linear:\n",
        "    def __init__(self):\n",
        "        self.__name__ = 'linear'\n",
        "\n",
        "    def __call__(self, Z):\n",
        "        return Z\n",
        "\n",
        "    def derivative(self, Z, *args, **kwargs):\n",
        "        return 1\n",
        "\n",
        "\n",
        "class Relu:\n",
        "    def __init__(self):\n",
        "        self.__name__ = 'relu'\n",
        "\n",
        "    def __call__(self, Z):\n",
        "        # seems to have best speed.\n",
        "        # other ways :\n",
        "        #   np.maximum(Z, 0)\n",
        "        #   (np.abs(X) + X) / 2\n",
        "        return Z * (Z > 0)\n",
        "\n",
        "    def derivative(self, Z, *args, **kwargs):\n",
        "        return (Z > 0) * 1\n",
        "\n",
        "\n",
        "class Sigmoid:\n",
        "    def __init__(self):\n",
        "        self.__name__ = 'sigmoid'\n",
        "\n",
        "    def __call__(self, Z):\n",
        "        return 1 / (1 + np.exp(-Z))\n",
        "\n",
        "    def derivative(self, Z, *args, **kwargs):\n",
        "        return Z * (1 - Z)\n",
        "\n",
        "\n",
        "# class Softmax_original:\n",
        "#     def __call__(self, Z, *args, **kwargs):\n",
        "#         exp = np.exp(Z)\n",
        "#         return exp / np.sum(exp, keepdims=True)\n",
        "#\n",
        "#     def derivative(self, Z, *args, **kwargs):\n",
        "#         o = self(Z)\n",
        "#         return o * (1 - o)\n",
        "\n",
        "\n",
        "# stable version of softmax:\n",
        "class Softmax:\n",
        "    def __init__(self):\n",
        "        self.__name__ = 'softmax'\n",
        "\n",
        "    def __call__(self, Z):\n",
        "        # this version is numerically stable\n",
        "        # softmax = e^z_i / sum(e^z_i)\n",
        "        # softmax = C * e^z_i / C * sum(e^z_i)\n",
        "        # softmax = e^(z_i + log(C)) / C * sum(e^(z_i + log(C)))\n",
        "        # e = log(C)\n",
        "        e = -np.max(Z, axis=1, keepdims=True)\n",
        "        exp = np.exp(Z + e)\n",
        "        return exp / np.sum(exp, axis=1, keepdims=True)\n",
        "\n",
        "    def derivative(self, Z, *args, **kwargs):\n",
        "        raise Exception('cannot get derivative')\n",
        "\n",
        "\n",
        "class Tanh:\n",
        "    def __init__(self):\n",
        "        self.__name__ = 'tanh'\n",
        "\n",
        "    def __call__(self, Z):\n",
        "        return np.tanh(Z)\n",
        "\n",
        "    def derivative(self, Z, *args, **kwargs):\n",
        "        return 1 - (np.tanh(Z) ** 2)\n",
        "\n",
        "\n",
        "sigmoid = Sigmoid\n",
        "softmax = Softmax\n",
        "relu = Relu\n",
        "linear = Linear\n",
        "tanh = Tanh"
      ],
      "execution_count": null,
      "outputs": []
    },
    {
      "cell_type": "markdown",
      "metadata": {
        "id": "dy2hJEVrypJr"
      },
      "source": [
        "# Losses"
      ]
    },
    {
      "cell_type": "code",
      "metadata": {
        "id": "DjjGi3PNyqmj"
      },
      "source": [
        "import numpy as np\n",
        "from scipy.special import logsumexp\n",
        "\n",
        "class Cross_entropy:\n",
        "    def __init__(self, last_layer_activation):\n",
        "        if last_layer_activation == 'sigmoid':\n",
        "            self.get_loss = self.call_sigmoid\n",
        "            self.derivative = self.derivative_sigmoid\n",
        "        elif last_layer_activation == 'softmax':\n",
        "            self.get_loss = self.call_softmax\n",
        "            self.derivative = self.derivative_softmax\n",
        "\n",
        "    def call_sigmoid(self, z, y):\n",
        "        # log(1 / (1 + exp(-z)) = -log(1 + exp(-z)) = -logaddexp(0, -z)\n",
        "        # log(1 - (1 / (1 + exp(-z))) = log(exp(-z) / (1 + exp(-z))) = -z - log(1 + exp(-z)) = -z - logaddexp(0, -z)\n",
        "        # loss = -(y * log(h) + (1 - y) * log (1 - h))\n",
        "        # loss = y * logaddexp(0, -z) + (1 - y) * (z + logaddexp(0, -z))\n",
        "        # loss = y * logaddexp(0, -z) + z + logaddexp(0, -z) - y * z -  y * logaddexp(0, -z))\n",
        "        # loss = z + logaddexp(0, -z) - y * z\n",
        "        # loss = z * (1 - y) + logaddexp(0, -z)\n",
        "\n",
        "        return np.mean(z * (1 - y) + np.logaddexp(0, -z))\n",
        "\n",
        "    def derivative_sigmoid(self, h, y):\n",
        "        return h - y\n",
        "\n",
        "    def call_softmax(self, z, y):\n",
        "        # loss = - sum(y_k * log(h_k))\n",
        "        # h_k = exp(z_k) / sum(exp(z_i))\n",
        "        # loss = - sum(y_k * (z_k - log(sum(exp(z_i)))))\n",
        "\n",
        "        return -np.mean(np.sum(y * (z - logsumexp(z, axis=1, keepdims=True)), axis=1))\n",
        "\n",
        "    def derivative_softmax(self, h, y):\n",
        "        return h - y\n",
        "\n",
        "    def get_loss(self, h, y):\n",
        "        return -np.mean(np.sum(y * np.log(h) + (1 - y) * np.log(1 - h), axis=1))\n",
        "\n",
        "    def derivative(self, h, y):\n",
        "        return (h - y) / (h * (1 - h))\n",
        "\n",
        "    def __call__(self, h, y):\n",
        "        self.get_loss(h, y)\n"
      ],
      "execution_count": null,
      "outputs": []
    },
    {
      "cell_type": "markdown",
      "metadata": {
        "id": "2LlGjRXkyx-0"
      },
      "source": [
        "# Model"
      ]
    },
    {
      "cell_type": "code",
      "metadata": {
        "id": "BAEFZ3jAysn0"
      },
      "source": [
        "\n",
        "class Sequential:\n",
        "    def __init__(self):\n",
        "        self.remove_last_layer_activation = False\n",
        "        self.layers = []\n",
        "        self.loss = None\n",
        "        self.optimizer = None\n",
        "        self.regularization = None\n",
        "        self.layer_counter = 1\n",
        "\n",
        "    def add(self, layer):\n",
        "        layer.set_name('dense_' + str(self.layer_counter))\n",
        "        self.layer_counter += 1\n",
        "        self.layers.append(layer)\n",
        "\n",
        "    def initialize_layers(self):\n",
        "        input_dim = -1\n",
        "        for layer in self.layers:\n",
        "            layer.compile(input_dim)\n",
        "            input_dim = layer.unit\n",
        "\n",
        "    def compile(self, optimizer='SGD', loss='cross_entropy', regularization=None):\n",
        "        if loss.lower() == 'cross_entropy':\n",
        "            self.loss = Cross_entropy(self.layers[-1].activation.__name__)\n",
        "            if self.layers[-1].activation.__name__ == \"sigmoid\" or self.layers[-1].activation.__name__ == \"softmax\":\n",
        "                self.remove_last_layer_activation = True\n",
        "\n",
        "        if type(optimizer) == str:\n",
        "            if optimizer.lower() == 'sgd':\n",
        "                optimizer = SGD()\n",
        "            elif optimizer.lower() == 'momentum_sgd':\n",
        "                optimizer = Momentum_SGD()\n",
        "            elif optimizer.lower() == 'adagrad':\n",
        "                optimizer = Adagrad()\n",
        "            elif optimizer.lower() == 'rmsprop':\n",
        "                optimizer = RMSprop()\n",
        "            elif optimizer.lower() == 'adam':\n",
        "                optimizer = Adam()\n",
        "            else:\n",
        "                raise Exception(\"Optimizer \" + optimizer + \" not found!\")\n",
        "\n",
        "        if regularization is not None and type(regularization) == str:\n",
        "            if regularization.lower() == 'l1':\n",
        "                regularization = L1()\n",
        "            elif regularization.lower() == 'l2':\n",
        "                regularization = L2()\n",
        "\n",
        "        self.regularization = regularization\n",
        "        self.optimizer = optimizer\n",
        "\n",
        "\n",
        "        self.initialize_layers()\n",
        "\n",
        "    def fit(self, X, y, batch_size=32, epoch=1, test_data=None):\n",
        "        assert self.loss is not None\n",
        "\n",
        "        history = {'acc': np.zeros(epoch), 'loss': np.zeros(epoch)}\n",
        "        if test_data is not None:\n",
        "            history['val_acc'] = np.zeros(epoch)\n",
        "            history['val_loss'] = np.zeros(epoch)\n",
        "\n",
        "        for epch in range(epoch):\n",
        "            print('Epoch', epch + 1)\n",
        "            sum_loss = 0\n",
        "            sum_acc = 0\n",
        "            bt_conter = 0\n",
        "\n",
        "            required_batchs = int(X.shape[0] / batch_size + 0.99999999)\n",
        "            bar = IncrementalBar(max=required_batchs,\n",
        "                                 suffix='%(index)d/%(max)d - %(eta)ds')\n",
        "\n",
        "            epoch_shufle = np.random.permutation(X.shape[0])\n",
        "\n",
        "            for bt in range(0, X.shape[0], batch_size):\n",
        "                bt_conter += 1\n",
        "                # single batch:\n",
        "                X_batch = X[epoch_shufle[bt:min(bt + batch_size, X.shape[0])]]\n",
        "                y_batch = y[epoch_shufle[bt:min(bt + batch_size, X.shape[0])]]\n",
        "\n",
        "                layer_output = [X_batch]\n",
        "                for j, layer in enumerate(self.layers):\n",
        "                    layer_output.append(layer(layer_output[-1]))\n",
        "\n",
        "                delta_next = self.loss.derivative(layer_output[-1], y_batch)\n",
        "                if not self.remove_last_layer_activation:\n",
        "                    delta_next *= self.layers[-1].activation.derivative(layer_output[-1])\n",
        "\n",
        "                grad = [0 for i in range(len(self.layers))]\n",
        "                regularization_grad = [0 for i in range(len(self.layers))]\n",
        "                if self.regularization is not None:\n",
        "                    regularization_grad = self.regularization.derivative(self.layers)\n",
        "\n",
        "                for i in range(len(self.layers) - 1, 0, -1):\n",
        "                    delta_prev = np.dot(delta_next, self.layers[i].W.T[:, :-1]) * \\\n",
        "                                 self.layers[i - 1].activation.derivative(layer_output[i])\n",
        "\n",
        "                    delta_wi = np.dot(np.hstack((layer_output[i], np.ones((layer_output[i].shape[0], 1)))).T,\n",
        "                                      delta_next)\n",
        "                    grad[i] = delta_wi / X_batch.shape[0] + regularization_grad[i]\n",
        "\n",
        "                    delta_next = delta_prev\n",
        "\n",
        "                delta_wi = np.dot(np.hstack((layer_output[0], np.ones((layer_output[0].shape[0], 1)))).T, delta_next)\n",
        "                grad[0] = delta_wi / X_batch.shape[0] + regularization_grad[0]\n",
        "\n",
        "                self.optimizer.update(grad, self.layers)\n",
        "\n",
        "                d = self.evaluate(X_batch, y_batch)\n",
        "                loss, acc = d['loss'], d['acc']\n",
        "                sum_acc += acc\n",
        "                sum_loss += loss\n",
        "                bar.next()\n",
        "                sys.stdout.write(\" loss: %f acc: %f\" % (sum_loss / (bt_conter + 1), sum_acc / (bt_conter + 1)))\n",
        "                sys.stdout.flush()\n",
        "\n",
        "            bar.finish()\n",
        "            d = self.evaluate(X, y)\n",
        "            loss, acc = d['loss'], d['acc']\n",
        "            if test_data is not None:\n",
        "                d = self.evaluate(test_data[0], test_data[1])\n",
        "                val_loss, val_acc = d['loss'], d['acc']\n",
        "                history['val_loss'][epch] = val_loss\n",
        "                history['val_acc'][epch] = val_acc\n",
        "                history['loss'][epch] = loss\n",
        "                history['acc'][epch] = acc\n",
        "                print('loss: {} acc: {} val_loss: {} val_acc: {}'.format(loss, acc, val_loss, val_acc))\n",
        "            else:\n",
        "                history['loss'][epch] = loss\n",
        "                history['acc'][epch] = acc\n",
        "                print('loss: {} acc: {}'.format(loss, acc))\n",
        "\n",
        "        return history\n",
        "\n",
        "    def predict(self, X, batch_size=32, last_activation=True):\n",
        "        return np.argmax(self.predict_proba(X, batch_size=batch_size, last_activation=last_activation), axis=1)\n",
        "\n",
        "    def predict_proba(self, X, batch_size=32, last_activation=True):\n",
        "        output = np.zeros((X.shape[0], self.layers[-1].unit))\n",
        "\n",
        "        for i in range(0, X.shape[0], batch_size):\n",
        "            t = X[i:min(i + batch_size, X.shape[0])].copy()\n",
        "            for j, layer in enumerate(self.layers):\n",
        "                t = layer(t, activation=(j != len(self.layers) - 1 or last_activation))\n",
        "\n",
        "            output[i:min(i + batch_size, X.shape[0])] = t\n",
        "\n",
        "        return output\n",
        "\n",
        "    def evaluate(self, X, y, batch_size=32):\n",
        "        if self.loss is not None:\n",
        "            p = self.predict_proba(X, batch_size=batch_size, last_activation=not self.remove_last_layer_activation)\n",
        "            loss = self.loss.get_loss(p, y)\n",
        "            if self.regularization is not None:\n",
        "                loss += self.regularization.cost(self.layers)\n",
        "\n",
        "            if self.remove_last_layer_activation:\n",
        "                p = self.layers[-1].activation(p)\n",
        "\n",
        "            pred = np.argmax(p, axis=1)\n",
        "            y_class = np.argmax(y, axis=1)\n",
        "\n",
        "            acc = np.sum(pred == y_class) / p.shape[0]\n",
        "            return {'loss': loss, 'acc': acc}\n",
        "        else:\n",
        "            p = self.predict_proba(X, batch_size=batch_size)\n",
        "\n",
        "            pred = np.argmax(p, axis=1)\n",
        "            y_class = np.argmax(y, axis=1)\n",
        "\n",
        "            acc = np.sum(pred == y_class) / p.shape[0]\n",
        "            return {'acc': acc}\n",
        "\n",
        "    def summary(self):\n",
        "        print(\"_\" * 65)\n",
        "        print('Layer (type)                 Output Shape              Param #')\n",
        "        print(\"=\" * 65)\n",
        "\n",
        "        layer_type = 'Input'\n",
        "        output_shape = '(None, {})'.format(str(self.layers[0].input_dim))\n",
        "        params = '0'\n",
        "        print('{:<29}'.format(layer_type) +\n",
        "              '{:<26}'.format(output_shape) +\n",
        "              '{}'.format(params))\n",
        "        print(\"-\" * 65)\n",
        "\n",
        "        trainable_params = 0\n",
        "        non_trainable_params = 0\n",
        "\n",
        "        for l in self.layers:\n",
        "            layer_type = l.name + ' ({})'.format(l.__name__)\n",
        "            output_shape = '(None, {})'.format(str(l.unit))\n",
        "            params = '{}'.format(l.W.shape[0] * l.W.shape[1])\n",
        "\n",
        "            if l.trainable:\n",
        "                trainable_params += l.W.shape[0] * l.W.shape[1]\n",
        "            else:\n",
        "                non_trainable_params += l.W.shape[0] * l.W.shape[1]\n",
        "\n",
        "            print('{:<29}'.format(layer_type) +\n",
        "                  '{:<26}'.format(output_shape) +\n",
        "                  '{}'.format(params))\n",
        "            print(\"-\" * 65)\n",
        "\n",
        "        print('Total params:', trainable_params + non_trainable_params)\n",
        "        print('Trainable params:', trainable_params)\n",
        "        print('Non-trainable params:', non_trainable_params)\n",
        "        print(\"_\" * 65)\n",
        "        print('Optimizer : {}'.format(self.optimizer.__name__))\n",
        "        if self.regularization is not None:\n",
        "            print('Regularization : {}'.format(self.regularization.__name__))\n",
        "        print(\"-\" * 65)\n",
        "        print()\n",
        "        print()\n",
        "\n",
        "    def save_weights(self, path):\n",
        "        import os\n",
        "        try:\n",
        "            os.rmdir(path)\n",
        "        except:\n",
        "            pass\n",
        "\n",
        "        os.mkdir(path)\n",
        "\n",
        "        for i, layer in enumerate(self.layers):\n",
        "            np.save(os.path.join(path, str(i) + '.npy'), layer.W)\n",
        "\n",
        "    def load_weights(self, path):\n",
        "        import os\n",
        "        assert len(os.listdir(path)) == len(self.layers)\n",
        "\n",
        "        for i, layer in enumerate(self.layers):\n",
        "            self.layers[i].W = np.load(os.path.join(path, str(i) + '.npy'))\n",
        "\n",
        "    def reset_weights(self):\n",
        "        for layer in self.layers:\n",
        "            layer.reset_weights()\n"
      ],
      "execution_count": null,
      "outputs": []
    },
    {
      "cell_type": "markdown",
      "metadata": {
        "id": "Boiz2OrRy_qu"
      },
      "source": [
        "# Optimizer"
      ]
    },
    {
      "cell_type": "code",
      "metadata": {
        "id": "4VLDzRxhy-FF"
      },
      "source": [
        "# SGD Optimizer as a template to see how you can write Optimizers.\n",
        "# Calling layer.update(delta) method, will simply update weight matrix\n",
        "# by formula:\n",
        "# w_new = w_old + delta\n",
        "# All classes have a dummy output to prevent errors. the output is just SGD update rule\n",
        "\n",
        "class SGD:\n",
        "    def __init__(self, lr=0.01):\n",
        "        self.lr = lr\n",
        "        self.__name__ = 'SGD'\n",
        "\n",
        "    def update(self, grads, layers):\n",
        "\n",
        "        for layer, delta in zip(layers, grads):\n",
        "            layer.update(-delta * self.lr)\n",
        "\n",
        "\n",
        "class Momentum_SGD(SGD):\n",
        "    def __init__(self, lr=0.01, momentum=0.9):\n",
        "        super().__init__(lr)\n",
        "        self.momentum = momentum\n",
        "\n",
        "        # Helping attribute\n",
        "        self.velocity = None\n",
        "\n",
        "        self.__name__ = 'Momentum_SGD'\n",
        "\n",
        "    def update(self, grads, layers):\n",
        "        # define Momentum_SGD update rule here.\n",
        "        # inputs are grads and layers.\n",
        "        #        grads is a list of gradient matrices.\n",
        "        #        layers is a list of layers.\n",
        "        #        you may need to define new methods(functions) or new attributes(variables)\n",
        "\n",
        "        if self.velocity == None:\n",
        "            self.velocity = [np.zeros(layer.W.shape) for layer in layers]\n",
        "        for i in range(len(layers)):\n",
        "            self.velocity[i]= self.momentum  * self.velocity[i]+ (-1* grads[i] * self.lr)\n",
        "            layers[i].update(self.velocity[i])\n",
        "\n",
        "        # define Momentum_SGD update rule here.\n",
        "\n",
        "\n",
        "class Adagrad:\n",
        "    def __init__(self, lr=0.01):\n",
        "        self.global_lr = lr\n",
        "        self.epsilon = 1e-7\n",
        "        self.velocity = None\n",
        "        self.accumulated_gradient = None\n",
        "\n",
        "        self.__name__ = 'AdaGrad'\n",
        "\n",
        "    def update(self, grads, layers):\n",
        "        # define AdaGrad update rule here.\n",
        "        # inputs are grads and layers.\n",
        "        #        grads is a list of gradient matrices.\n",
        "        #        layers is a list of layers.\n",
        "        #        you may need to define new methods(functions) or new attributes(variables)\n",
        "        if self.accumulated_gradient == None:\n",
        "            self.accumulated_gradient = [np.zeros(layer.W.shape) for layer in layers]\n",
        "        for i in range(len(layers)):\n",
        "            self.accumulated_gradient[i]+= grads[i] * grads[i] \n",
        "            layers[i].update(self.global_lr* -grads[i] / (self.epsilon + np.sqrt(self.accumulated_gradient[i])))\n",
        "        # define AdaGrad update rule here.\n",
        "\n",
        "\n",
        "class RMSprop:\n",
        "    def __init__(self, lr=0.001, rho=0.9):\n",
        "        self.global_lr = lr\n",
        "        self.rho = rho\n",
        "        self.epsilon = 1e-7\n",
        "\n",
        "        # Helping attribute\n",
        "        self.velocity = None\n",
        "        self.accumulated_gradient = None\n",
        "\n",
        "        self.__name__ = 'RMSprop'\n",
        "\n",
        "    def update(self, grads, layers):\n",
        "        # define RMSprop update rule here.\n",
        "        # inputs are grads and layers.\n",
        "        #        grads is a list of gradient matrices.\n",
        "        #        layers is a list of layers.\n",
        "        #        you may need to define new methods(functions) or new attributes(variables)\n",
        "        if self.accumulated_gradient == None:\n",
        "            self.accumulated_gradient = [np.zeros(layer.W.shape) for layer in layers]\n",
        "        for i in range(len(layers)):\n",
        "            self.accumulated_gradient[i]= self.rho * self.accumulated_gradient[i] + (1- self.rho) *grads[i] * grads[i] \n",
        "            layers[i].update(self.global_lr* -grads[i] / ( np.sqrt(self.epsilon + self.accumulated_gradient[i])))\n",
        "\n",
        "        # define RMSprop update rule here.\n",
        "\n",
        "\n",
        "class Adam(Adagrad):\n",
        "    def __init__(self, lr=0.001, rho_1=0.9, rho_2=0.999):\n",
        "        self.global_lr = lr\n",
        "        self.rho_1 = rho_1\n",
        "        self.rho_2 = rho_2\n",
        "\n",
        "        # Helping attribute\n",
        "        self.first_moment_estimate = None\n",
        "        self.second_moment_estimate = None\n",
        "        self.t = 0\n",
        "        self.__name__ = 'Adam'\n",
        "\n",
        "    def update(self, grads, layers):\n",
        "        # define RMSprop update rule here.\n",
        "        # inputs are grads and layers.\n",
        "        #        grads is a list of gradient matrices.\n",
        "        #        layers is a list of layers.\n",
        "        #        you may need to define new methods(functions) or new attributes(variables)\n",
        "\n",
        "        if self.first_moment_estimate == None:\n",
        "            self.first_moment_estimate = [np.zeros(layer.W.shape) for layer in layers]\n",
        "            \n",
        "        if self.second_moment_estimate == None:\n",
        "            self.second_moment_estimate = [np.zeros(layer.W.shape) for layer in layers]\n",
        "        for i in range(len(layers)):\n",
        "            self.first_moment_estimate[i]= self.rho_1 * self.first_moment_estimate[i] + (1- self.rho_1)* grads[i]\n",
        "            self.second_moment_estimate[i]= self.rho_2 * self.second_moment_estimate[i] + (1- self.rho_2)* grads[i]* grads[i]  \n",
        "            s = self.first_moment_estimate[i] / (1 - self.rho_1**(t))\n",
        "            r = self.second_moment_estimate[i] / (1 - self.rho_2**(t))\n",
        "            layers[i].update(self.global_lr * -s / ( np.sqrt(self.epsilon + r)))\n",
        "\n",
        "        # define RMSprop update rule here.\n",
        "\n",
        "\n",
        "sgd = SGD\n",
        "momentom_sgd = Momentum_SGD\n",
        "adagrad = Adagrad\n",
        "rmsprop = RMSprop\n",
        "adam = Adam"
      ],
      "execution_count": null,
      "outputs": []
    },
    {
      "cell_type": "markdown",
      "metadata": {
        "id": "XvWRvSP8zFIR"
      },
      "source": [
        "# Regularization"
      ]
    },
    {
      "cell_type": "code",
      "metadata": {
        "id": "kkVwbTM_zHVj"
      },
      "source": [
        "import numpy as np\n",
        "\n",
        "\n",
        "class L2:\n",
        "    def __init__(self, lam=0.001):\n",
        "        self.lam = lam\n",
        "        self.__name__ = 'L2 Regularization'\n",
        "\n",
        "    def cost(self, layers):\n",
        "\n",
        "        for i in range(len(layers)):\n",
        "            cost += np.sum(np.square(l.W[:-1, :]))\n",
        "        return 1/2*cost * self.lam\n",
        "\n",
        "\n",
        "    def derivative(self, layers):\n",
        "\n",
        "        derivative = []\n",
        "        for i in range(len(layers)):\n",
        "          derivative[i] = np.Vstack(layers[i].W[:-1, :], np.zeros(layers[i].W.shape[1]))\n",
        "        return [derivative[i] * self.lam for l in layers]\n",
        "\n",
        "\n",
        "\n",
        "class L1:\n",
        "    def __init__(self, lam=0.001):\n",
        "        self.lam = lam\n",
        "        self.__name__ = 'L1 Regularization'\n",
        "\n",
        "    def cost(self, layers):\n",
        "        # define L2 Regularization Cost function here\n",
        "        # input: layers -> list of layers. you can access the weight matrix of i'th layer\n",
        "        #                  using \"layers[i].W\".\n",
        "        #                  layers[i].W[-1, :] is the bias term and layers[i].W[:-1, :]\n",
        "        #                  will give you all weights\n",
        "        #\n",
        "        # output: one float number. this number is the total cost of the Regularization term.\n",
        "        #         don't forget to effect \"self.lam\" in the return value. lam is the\n",
        "        #         Regularization Coefficient.\n",
        "\n",
        "        for i in range(len(layers)):\n",
        "            cost += np.sum(np.abs(l.W[:-1, :]))\n",
        "        return 1/2* cost * self.lam\n",
        "\n",
        "        # define L2 Regularization Cost function here\n",
        "\n",
        "    def derivative(self, layers):\n",
        "\n",
        "        derivative = []\n",
        "        for i in range(len(layers)):\n",
        "           derivative[i] = np.vstack(np.sign(l.W[:-1, :]), np.zeros(layers[i].W.shape[1]))\n",
        "        return [derivative[i] * self.lam for l in layers]\n",
        "\n",
        "\n",
        "\n",
        "        # define L2 Regularization Cost function Derivatives here\n"
      ],
      "execution_count": null,
      "outputs": []
    },
    {
      "cell_type": "markdown",
      "metadata": {
        "id": "jmAOjAZ0zJ_i"
      },
      "source": [
        "# Test"
      ]
    },
    {
      "cell_type": "code",
      "metadata": {
        "colab": {
          "base_uri": "https://localhost:8080/"
        },
        "id": "cEPIkY1cfheg",
        "outputId": "73a3decd-faca-4f35-df3f-7e6baf6a20f4"
      },
      "source": [
        "X_train.size"
      ],
      "execution_count": null,
      "outputs": [
        {
          "output_type": "execute_result",
          "data": {
            "text/plain": [
              "800"
            ]
          },
          "metadata": {},
          "execution_count": 50
        }
      ]
    },
    {
      "cell_type": "code",
      "metadata": {
        "colab": {
          "base_uri": "https://localhost:8080/"
        },
        "id": "nz4R13uxgr_1",
        "outputId": "59b69f11-b276-4688-ef3e-3869104ace85"
      },
      "source": [
        "y_train"
      ],
      "execution_count": null,
      "outputs": [
        {
          "output_type": "execute_result",
          "data": {
            "text/plain": [
              "238    0\n",
              "438    1\n",
              "475    1\n",
              "58     0\n",
              "380    0\n",
              "      ..\n",
              "255    0\n",
              "72     1\n",
              "396    0\n",
              "235    1\n",
              "37     0\n",
              "Name: label, Length: 400, dtype: int64"
            ]
          },
          "metadata": {},
          "execution_count": 71
        }
      ]
    },
    {
      "cell_type": "code",
      "metadata": {
        "colab": {
          "base_uri": "https://localhost:8080/"
        },
        "id": "ojGG1MS3ls32",
        "outputId": "beb6e852-e482-4f92-9528-fe17695945b3"
      },
      "source": [
        "y_train"
      ],
      "execution_count": null,
      "outputs": [
        {
          "output_type": "execute_result",
          "data": {
            "text/plain": [
              "238    0\n",
              "438    1\n",
              "475    1\n",
              "58     0\n",
              "380    0\n",
              "      ..\n",
              "255    0\n",
              "72     1\n",
              "396    0\n",
              "235    1\n",
              "37     0\n",
              "Name: label, Length: 400, dtype: int64"
            ]
          },
          "metadata": {},
          "execution_count": 68
        }
      ]
    },
    {
      "cell_type": "code",
      "metadata": {
        "colab": {
          "base_uri": "https://localhost:8080/",
          "height": 414
        },
        "id": "IioFAVoFmK9u",
        "outputId": "8419d885-db16-4f7f-cfae-2cf70ced5004"
      },
      "source": [
        "X_train"
      ],
      "execution_count": null,
      "outputs": [
        {
          "output_type": "execute_result",
          "data": {
            "text/html": [
              "<div>\n",
              "<style scoped>\n",
              "    .dataframe tbody tr th:only-of-type {\n",
              "        vertical-align: middle;\n",
              "    }\n",
              "\n",
              "    .dataframe tbody tr th {\n",
              "        vertical-align: top;\n",
              "    }\n",
              "\n",
              "    .dataframe thead th {\n",
              "        text-align: right;\n",
              "    }\n",
              "</style>\n",
              "<table border=\"1\" class=\"dataframe\">\n",
              "  <thead>\n",
              "    <tr style=\"text-align: right;\">\n",
              "      <th></th>\n",
              "      <th>x</th>\n",
              "      <th>y</th>\n",
              "    </tr>\n",
              "  </thead>\n",
              "  <tbody>\n",
              "    <tr>\n",
              "      <th>238</th>\n",
              "      <td>-0.821493</td>\n",
              "      <td>0.547618</td>\n",
              "    </tr>\n",
              "    <tr>\n",
              "      <th>438</th>\n",
              "      <td>0.163143</td>\n",
              "      <td>-0.074734</td>\n",
              "    </tr>\n",
              "    <tr>\n",
              "      <th>475</th>\n",
              "      <td>0.090651</td>\n",
              "      <td>0.066048</td>\n",
              "    </tr>\n",
              "    <tr>\n",
              "      <th>58</th>\n",
              "      <td>0.148381</td>\n",
              "      <td>0.996551</td>\n",
              "    </tr>\n",
              "    <tr>\n",
              "      <th>380</th>\n",
              "      <td>-0.992718</td>\n",
              "      <td>0.090162</td>\n",
              "    </tr>\n",
              "    <tr>\n",
              "      <th>...</th>\n",
              "      <td>...</td>\n",
              "      <td>...</td>\n",
              "    </tr>\n",
              "    <tr>\n",
              "      <th>255</th>\n",
              "      <td>-0.666454</td>\n",
              "      <td>0.733842</td>\n",
              "    </tr>\n",
              "    <tr>\n",
              "      <th>72</th>\n",
              "      <td>1.990226</td>\n",
              "      <td>0.417914</td>\n",
              "    </tr>\n",
              "    <tr>\n",
              "      <th>396</th>\n",
              "      <td>-0.936054</td>\n",
              "      <td>0.342217</td>\n",
              "    </tr>\n",
              "    <tr>\n",
              "      <th>235</th>\n",
              "      <td>0.688008</td>\n",
              "      <td>-0.443998</td>\n",
              "    </tr>\n",
              "    <tr>\n",
              "      <th>37</th>\n",
              "      <td>0.996593</td>\n",
              "      <td>0.033100</td>\n",
              "    </tr>\n",
              "  </tbody>\n",
              "</table>\n",
              "<p>400 rows × 2 columns</p>\n",
              "</div>"
            ],
            "text/plain": [
              "            x         y\n",
              "238 -0.821493  0.547618\n",
              "438  0.163143 -0.074734\n",
              "475  0.090651  0.066048\n",
              "58   0.148381  0.996551\n",
              "380 -0.992718  0.090162\n",
              "..        ...       ...\n",
              "255 -0.666454  0.733842\n",
              "72   1.990226  0.417914\n",
              "396 -0.936054  0.342217\n",
              "235  0.688008 -0.443998\n",
              "37   0.996593  0.033100\n",
              "\n",
              "[400 rows x 2 columns]"
            ]
          },
          "metadata": {},
          "execution_count": 70
        }
      ]
    },
    {
      "cell_type": "code",
      "metadata": {
        "colab": {
          "base_uri": "https://localhost:8080/"
        },
        "id": "PCxfbaOar3jk",
        "outputId": "9c035346-3b80-48ae-c0bf-13be54749dc2"
      },
      "source": [
        "seed = 7\n",
        "np.random.seed(seed)\n",
        "\n",
        "# generate two datasets and print their shape\n",
        "X,y = make_moons(n_samples = 6000, noise = 0.08)\n",
        "print('X:\\t{}' .format(X.shape))\n",
        "print('y:\\t{}' .format(y.shape))\n",
        "print(type(X))\n",
        "print(type(y))\n",
        "\n",
        "# split data into train and test set\n",
        "X_train, X_test, y_train, y_test = train_test_split(X, y, test_size=0.33, random_state=42)"
      ],
      "execution_count": null,
      "outputs": [
        {
          "output_type": "stream",
          "name": "stdout",
          "text": [
            "X:\t(6000, 2)\n",
            "y:\t(6000,)\n",
            "<class 'numpy.ndarray'>\n",
            "<class 'numpy.ndarray'>\n"
          ]
        }
      ]
    },
    {
      "cell_type": "code",
      "metadata": {
        "colab": {
          "base_uri": "https://localhost:8080/",
          "height": 496
        },
        "id": "_R3Zm6VmsA9T",
        "outputId": "a29d01bb-56cb-4775-e98d-e2b86fc1d771"
      },
      "source": [
        "plt.figure(figsize=(12,8))\n",
        "plt.scatter(X_train[:,0],X_train[:,1], color = 'b', label = 'class X_train')\n",
        "plt.scatter(X_test[:,0],X_test[:,1], color = 'r', label = 'class X_test')\n",
        "plt.xlabel('feature1')\n",
        "plt.ylabel('feature2')\n",
        "plt.legend()\n",
        "plt.axis('equal')\n",
        "plt.show()"
      ],
      "execution_count": null,
      "outputs": [
        {
          "output_type": "display_data",
          "data": {
            "image/png": "[encoded data removed]",
            "text/plain": [
              "<Figure size 864x576 with 1 Axes>"
            ]
          },
          "metadata": {
            "needs_background": "light"
          }
        }
      ]
    },
    {
      "cell_type": "code",
      "metadata": {
        "id": "ay0v_B8FyBJK",
        "outputId": "f323849a-0b9d-43c0-fcbc-6b8495a624e3",
        "colab": {
          "base_uri": "https://localhost:8080/"
        }
      },
      "source": [
        "X_train.shape"
      ],
      "execution_count": null,
      "outputs": [
        {
          "output_type": "execute_result",
          "data": {
            "text/plain": [
              "(4800, 2)"
            ]
          },
          "metadata": {},
          "execution_count": 84
        }
      ]
    },
    {
      "cell_type": "code",
      "metadata": {
        "colab": {
          "base_uri": "https://localhost:8080/",
          "height": 736
        },
        "id": "W5XlU-jQzJmR",
        "outputId": "34cea86c-8a2e-4bbb-f084-1aa18e77555f"
      },
      "source": [
        "# this code is an example of how to use Models\n",
        "X_train = X_train.reshape(X_train.shape[0], -1)\n",
        "X_test = X_test.reshape(X_test.shape[0], -1)\n",
        "\n",
        "model = Sequential()\n",
        "model.add(Dense(100, 'relu', input_dim=X_train.shape[1]))  # firs layer, 400 neurons with relu activation function\n",
        "#model.add(Dense(200, 'sigmoid'))  # second layer, 200 neurons with sigmoid activation function\n",
        "#model.add(Dense(100, 'tanh'))  # third layer, 100 neurons with tanh activation function\n",
        "#model.add(Dense(50, 'linear'))  # fourth layer, 50 neurons with linear activation function\n",
        "model.add(Dense(1, 'sigmoid'))  # fifth layer, 10 neurons with softmax activation function (output)\n",
        "\n",
        "model.compile(loss='cross_entropy', optimizer='sgd', regularization=None)\n",
        "\n",
        "model.summary()\n",
        "\n",
        "history = model.fit(X_train, y_train, epoch=10, batch_size=64, test_data=(X_test, y_test))\n",
        "\n",
        "plt.figure()\n",
        "plt.subplot(1, 2, 1)\n",
        "plt.title('acc')\n",
        "plt.plot(history['acc'], 'b-o', label='Train')\n",
        "plt.plot(history['val_acc'], 'r--o', label='Test')\n",
        "plt.grid()\n",
        "plt.legend()\n",
        "\n",
        "plt.subplot(1, 2, 2)\n",
        "plt.title('loss')\n",
        "plt.plot(history['loss'], 'b-o', label='Train')\n",
        "plt.plot(history['val_loss'], 'r--o', label='Test')\n",
        "plt.grid()\n",
        "plt.legend()\n",
        "\n",
        "plt.show()"
      ],
      "execution_count": null,
      "outputs": [
        {
          "output_type": "stream",
          "name": "stdout",
          "text": [
            "_________________________________________________________________\n",
            "Layer (type)                 Output Shape              Param #\n",
            "=================================================================\n",
            "Input                        (None, 2)                 0\n",
            "-----------------------------------------------------------------\n",
            "dense_1 (Dense)              (None, 100)               300\n",
            "-----------------------------------------------------------------\n",
            "dense_2 (Dense)              (None, 1)                 101\n",
            "-----------------------------------------------------------------\n",
            "Total params: 401\n",
            "Trainable params: 401\n",
            "Non-trainable params: 0\n",
            "_________________________________________________________________\n",
            "Optimizer : SGD\n",
            "-----------------------------------------------------------------\n",
            "\n",
            "\n",
            "Epoch 1\n"
          ]
        },
        {
          "output_type": "error",
          "ename": "ValueError",
          "evalue": "ignored",
          "traceback": [
            "\u001b[0;31m---------------------------------------------------------------------------\u001b[0m",
            "\u001b[0;31mValueError\u001b[0m                                Traceback (most recent call last)",
            "\u001b[0;32m<ipython-input-83-66d8cefddc09>\u001b[0m in \u001b[0;36m<module>\u001b[0;34m()\u001b[0m\n\u001b[1;32m     14\u001b[0m \u001b[0mmodel\u001b[0m\u001b[0;34m.\u001b[0m\u001b[0msummary\u001b[0m\u001b[0;34m(\u001b[0m\u001b[0;34m)\u001b[0m\u001b[0;34m\u001b[0m\u001b[0;34m\u001b[0m\u001b[0m\n\u001b[1;32m     15\u001b[0m \u001b[0;34m\u001b[0m\u001b[0m\n\u001b[0;32m---> 16\u001b[0;31m \u001b[0mhistory\u001b[0m \u001b[0;34m=\u001b[0m \u001b[0mmodel\u001b[0m\u001b[0;34m.\u001b[0m\u001b[0mfit\u001b[0m\u001b[0;34m(\u001b[0m\u001b[0mX_train\u001b[0m\u001b[0;34m,\u001b[0m \u001b[0my_train\u001b[0m\u001b[0;34m,\u001b[0m \u001b[0mepoch\u001b[0m\u001b[0;34m=\u001b[0m\u001b[0;36m10\u001b[0m\u001b[0;34m,\u001b[0m \u001b[0mbatch_size\u001b[0m\u001b[0;34m=\u001b[0m\u001b[0;36m64\u001b[0m\u001b[0;34m,\u001b[0m \u001b[0mtest_data\u001b[0m\u001b[0;34m=\u001b[0m\u001b[0;34m(\u001b[0m\u001b[0mX_test\u001b[0m\u001b[0;34m,\u001b[0m \u001b[0my_test\u001b[0m\u001b[0;34m)\u001b[0m\u001b[0;34m)\u001b[0m\u001b[0;34m\u001b[0m\u001b[0;34m\u001b[0m\u001b[0m\n\u001b[0m\u001b[1;32m     17\u001b[0m \u001b[0;34m\u001b[0m\u001b[0m\n\u001b[1;32m     18\u001b[0m \u001b[0mplt\u001b[0m\u001b[0;34m.\u001b[0m\u001b[0mfigure\u001b[0m\u001b[0;34m(\u001b[0m\u001b[0;34m)\u001b[0m\u001b[0;34m\u001b[0m\u001b[0;34m\u001b[0m\u001b[0m\n",
            "\u001b[0;32m<ipython-input-22-d8082f355b2e>\u001b[0m in \u001b[0;36mfit\u001b[0;34m(self, X, y, batch_size, epoch, test_data)\u001b[0m\n\u001b[1;32m     92\u001b[0m \u001b[0;34m\u001b[0m\u001b[0m\n\u001b[1;32m     93\u001b[0m                 \u001b[0;32mfor\u001b[0m \u001b[0mi\u001b[0m \u001b[0;32min\u001b[0m \u001b[0mrange\u001b[0m\u001b[0;34m(\u001b[0m\u001b[0mlen\u001b[0m\u001b[0;34m(\u001b[0m\u001b[0mself\u001b[0m\u001b[0;34m.\u001b[0m\u001b[0mlayers\u001b[0m\u001b[0;34m)\u001b[0m \u001b[0;34m-\u001b[0m \u001b[0;36m1\u001b[0m\u001b[0;34m,\u001b[0m \u001b[0;36m0\u001b[0m\u001b[0;34m,\u001b[0m \u001b[0;34m-\u001b[0m\u001b[0;36m1\u001b[0m\u001b[0;34m)\u001b[0m\u001b[0;34m:\u001b[0m\u001b[0;34m\u001b[0m\u001b[0;34m\u001b[0m\u001b[0m\n\u001b[0;32m---> 94\u001b[0;31m                     \u001b[0mdelta_prev\u001b[0m \u001b[0;34m=\u001b[0m \u001b[0mnp\u001b[0m\u001b[0;34m.\u001b[0m\u001b[0mdot\u001b[0m\u001b[0;34m(\u001b[0m\u001b[0mdelta_next\u001b[0m\u001b[0;34m,\u001b[0m \u001b[0mself\u001b[0m\u001b[0;34m.\u001b[0m\u001b[0mlayers\u001b[0m\u001b[0;34m[\u001b[0m\u001b[0mi\u001b[0m\u001b[0;34m]\u001b[0m\u001b[0;34m.\u001b[0m\u001b[0mW\u001b[0m\u001b[0;34m.\u001b[0m\u001b[0mT\u001b[0m\u001b[0;34m[\u001b[0m\u001b[0;34m:\u001b[0m\u001b[0;34m,\u001b[0m \u001b[0;34m:\u001b[0m\u001b[0;34m-\u001b[0m\u001b[0;36m1\u001b[0m\u001b[0;34m]\u001b[0m\u001b[0;34m)\u001b[0m \u001b[0;34m*\u001b[0m                                  \u001b[0mself\u001b[0m\u001b[0;34m.\u001b[0m\u001b[0mlayers\u001b[0m\u001b[0;34m[\u001b[0m\u001b[0mi\u001b[0m \u001b[0;34m-\u001b[0m \u001b[0;36m1\u001b[0m\u001b[0;34m]\u001b[0m\u001b[0;34m.\u001b[0m\u001b[0mactivation\u001b[0m\u001b[0;34m.\u001b[0m\u001b[0mderivative\u001b[0m\u001b[0;34m(\u001b[0m\u001b[0mlayer_output\u001b[0m\u001b[0;34m[\u001b[0m\u001b[0mi\u001b[0m\u001b[0;34m]\u001b[0m\u001b[0;34m)\u001b[0m\u001b[0;34m\u001b[0m\u001b[0;34m\u001b[0m\u001b[0m\n\u001b[0m\u001b[1;32m     95\u001b[0m \u001b[0;34m\u001b[0m\u001b[0m\n\u001b[1;32m     96\u001b[0m                     delta_wi = np.dot(np.hstack((layer_output[i], np.ones((layer_output[i].shape[0], 1)))).T,\n",
            "\u001b[0;32m<__array_function__ internals>\u001b[0m in \u001b[0;36mdot\u001b[0;34m(*args, **kwargs)\u001b[0m\n",
            "\u001b[0;31mValueError\u001b[0m: shapes (64,64) and (1,100) not aligned: 64 (dim 1) != 1 (dim 0)"
          ]
        }
      ]
    },
    {
      "cell_type": "code",
      "metadata": {
        "id": "YyeIMzzpuPP8"
      },
      "source": [
        ""
      ],
      "execution_count": null,
      "outputs": []
    },
    {
      "cell_type": "code",
      "metadata": {
        "id": "dZlIWXc2s9Kw"
      },
      "source": [
        ""
      ],
      "execution_count": null,
      "outputs": []
    },
    {
      "cell_type": "code",
      "metadata": {
        "colab": {
          "base_uri": "https://localhost:8080/"
        },
        "id": "g7lP7EF4o_2k",
        "outputId": "b06d299e-c51c-444d-df92-b0fb13a2ec63"
      },
      "source": [
        "X_train.shape,"
      ],
      "execution_count": null,
      "outputs": [
        {
          "output_type": "execute_result",
          "data": {
            "text/plain": [
              "(4020, 2)"
            ]
          },
          "metadata": {},
          "execution_count": 79
        }
      ]
    },
    {
      "cell_type": "code",
      "metadata": {
        "id": "9FQY0nIff8vK"
      },
      "source": [
        "# this code is an example of how to use Models\n",
        "\n",
        "split=Static_split()\n",
        "split.set_data(X,y)\n",
        "X_train,y_train=split.get_train_data()\n",
        "X_validation,y_validation=split.get_validation_data()\n",
        "X_train = X_train.reshape(X_train.shape[0], -1)\n",
        "X_validation = X_validation.reshape(X_validation.shape[0], -1)\n",
        "model = Sequential()\n",
        "model.add(Dense(100, 'relu', input_dim=X_train.shape[1]))  # firs layer, 400 neurons with relu activation function\n",
        "#model.add(Dense(200, 'sigmoid'))  # second layer, 200 neurons with sigmoid activation function\n",
        "#model.add(Dense(100, 'tanh'))  # third layer, 100 neurons with tanh activation function\n",
        "#model.add(Dense(50, 'linear'))  # fourth layer, 50 neurons with linear activation function\n",
        "model.add(Dense(10, 'softmax'))  # fifth layer, 10 neurons with softmax activation function (output)\n",
        "\n",
        "model.compile(loss='cross_entropy', optimizer='sgd', regularization=None)\n",
        "\n",
        "model.summary()\n",
        "\n",
        "history = model.fit(X_train, y_train, epoch=10, batch_size=64, test_data=(X_validation, y_validation))\n",
        "\n",
        "plt.figure()\n",
        "plt.subplot(1, 2, 1)\n",
        "plt.title('acc')\n",
        "plt.plot(history['acc'], 'b-o', label='Train')\n",
        "plt.plot(history['val_acc'], 'r--o', label='Test')\n",
        "plt.grid()\n",
        "plt.legend()\n",
        "\n",
        "plt.subplot(1, 2, 2)\n",
        "plt.title('loss')\n",
        "plt.plot(history['loss'], 'b-o', label='Train')\n",
        "plt.plot(history['val_loss'], 'r--o', label='Test')\n",
        "plt.grid()\n",
        "plt.legend()\n",
        "\n",
        "plt.show()"
      ],
      "execution_count": null,
      "outputs": []
    },
    {
      "cell_type": "code",
      "metadata": {
        "id": "dUMyhh2ldoPq"
      },
      "source": [
        "# this code is an example of how to use Models\n",
        "\n",
        "split=Static_split()\n",
        "split.set_data(X,y)\n",
        "X_train,y_train=split.get_train_data()\n",
        "X_validation,y_validation=split.get_validation_data()\n",
        "X_train = X_train.reshape(X_train.shape[0], -1)\n",
        "X_validation = X_validation.reshape(X_validation.shape[0], -1)\n",
        "model = Sequential()\n",
        "model.add(Dense(200, 'relu', input_dim=X_train.shape[1]))  # firs layer, 400 neurons with relu activation function\n",
        "\n",
        "model.add(Dense(10, 'softmax'))  # fifth layer, 10 neurons with softmax activation function (output)\n",
        "\n",
        "model.compile(loss='cross_entropy', optimizer='sgd', regularization=None)\n",
        "\n",
        "model.summary()\n",
        "\n",
        "history = model.fit(X_train, y_train, epoch=10, batch_size=64, test_data=(X_validation, y_validation))\n",
        "\n",
        "plt.figure()\n",
        "plt.subplot(1, 2, 1)\n",
        "plt.title('acc')\n",
        "plt.plot(history['acc'], 'b-o', label='Train')\n",
        "plt.plot(history['val_acc'], 'r--o', label='Test')\n",
        "plt.grid()\n",
        "plt.legend()\n",
        "\n",
        "plt.subplot(1, 2, 2)\n",
        "plt.title('loss')\n",
        "plt.plot(history['loss'], 'b-o', label='Train')\n",
        "plt.plot(history['val_loss'], 'r--o', label='Test')\n",
        "plt.grid()\n",
        "plt.legend()\n",
        "\n",
        "plt.show()"
      ],
      "execution_count": null,
      "outputs": []
    },
    {
      "cell_type": "code",
      "metadata": {
        "id": "wybyP7tgRL6_"
      },
      "source": [
        "X_train.shape"
      ],
      "execution_count": null,
      "outputs": []
    },
    {
      "cell_type": "code",
      "metadata": {
        "colab": {
          "base_uri": "https://localhost:8080/",
          "height": 707
        },
        "id": "rI-QmsAsQrYP",
        "outputId": "d02b8ab0-fff7-4f62-e02d-5efaf9c17821"
      },
      "source": [
        "# this code is an example of how to use Models\n",
        "\n",
        "split=Static_split()\n",
        "split.set_data(X,y)\n",
        "X_train,y_train=split.get_train_data()\n",
        "X_validation,y_validation=split.get_validation_data()\n",
        "X_train = X_train.reshape(X_train.shape[0], -1)\n",
        "X_validation = X_validation.reshape(X_validation.shape[0], -1)\n",
        "model = Sequential()\n",
        "model.add(Dense(50, 'relu', input_dim=X_train.shape[1]))  # firs layer, 400 neurons with relu activation function\n",
        "\n",
        "model.add(Dense(10, 'softmax'))  # fifth layer, 10 neurons with softmax activation function (output)\n",
        "\n",
        "model.compile(loss='cross_entropy', optimizer='sgd', regularization=None)\n",
        "\n",
        "model.summary()\n",
        "\n",
        "history = model.fit(X_train, y_train, epoch=10, batch_size=64, test_data=(X_validation, y_validation))\n",
        "\n",
        "plt.figure()\n",
        "plt.subplot(1, 2, 1)\n",
        "plt.title('acc')\n",
        "plt.plot(history['acc'], 'b-o', label='Train')\n",
        "plt.plot(history['val_acc'], 'r--o', label='Test')\n",
        "plt.grid()\n",
        "plt.legend()\n",
        "\n",
        "plt.subplot(1, 2, 2)\n",
        "plt.title('loss')\n",
        "plt.plot(history['loss'], 'b-o', label='Train')\n",
        "plt.plot(history['val_loss'], 'r--o', label='Test')\n",
        "plt.grid()\n",
        "plt.legend()\n",
        "\n",
        "plt.show()"
      ],
      "execution_count": null,
      "outputs": [
        {
          "output_type": "stream",
          "name": "stdout",
          "text": [
            "_________________________________________________________________\n",
            "Layer (type)                 Output Shape              Param #\n",
            "=================================================================\n",
            "Input                        (None, 2)                 0\n",
            "-----------------------------------------------------------------\n",
            "dense_1 (Dense)              (None, 50)                150\n",
            "-----------------------------------------------------------------\n",
            "dense_2 (Dense)              (None, 10)                510\n",
            "-----------------------------------------------------------------\n",
            "Total params: 660\n",
            "Trainable params: 660\n",
            "Non-trainable params: 0\n",
            "_________________________________________________________________\n",
            "Optimizer : SGD\n",
            "-----------------------------------------------------------------\n",
            "\n",
            "\n",
            "Epoch 1\n"
          ]
        },
        {
          "output_type": "error",
          "ename": "ValueError",
          "evalue": "ignored",
          "traceback": [
            "\u001b[0;31m---------------------------------------------------------------------------\u001b[0m",
            "\u001b[0;31mValueError\u001b[0m                                Traceback (most recent call last)",
            "\u001b[0;32m<ipython-input-81-2b6d7f219485>\u001b[0m in \u001b[0;36m<module>\u001b[0;34m()\u001b[0m\n\u001b[1;32m     16\u001b[0m \u001b[0mmodel\u001b[0m\u001b[0;34m.\u001b[0m\u001b[0msummary\u001b[0m\u001b[0;34m(\u001b[0m\u001b[0;34m)\u001b[0m\u001b[0;34m\u001b[0m\u001b[0;34m\u001b[0m\u001b[0m\n\u001b[1;32m     17\u001b[0m \u001b[0;34m\u001b[0m\u001b[0m\n\u001b[0;32m---> 18\u001b[0;31m \u001b[0mhistory\u001b[0m \u001b[0;34m=\u001b[0m \u001b[0mmodel\u001b[0m\u001b[0;34m.\u001b[0m\u001b[0mfit\u001b[0m\u001b[0;34m(\u001b[0m\u001b[0mX_train\u001b[0m\u001b[0;34m,\u001b[0m \u001b[0my_train\u001b[0m\u001b[0;34m,\u001b[0m \u001b[0mepoch\u001b[0m\u001b[0;34m=\u001b[0m\u001b[0;36m10\u001b[0m\u001b[0;34m,\u001b[0m \u001b[0mbatch_size\u001b[0m\u001b[0;34m=\u001b[0m\u001b[0;36m64\u001b[0m\u001b[0;34m,\u001b[0m \u001b[0mtest_data\u001b[0m\u001b[0;34m=\u001b[0m\u001b[0;34m(\u001b[0m\u001b[0mX_validation\u001b[0m\u001b[0;34m,\u001b[0m \u001b[0my_validation\u001b[0m\u001b[0;34m)\u001b[0m\u001b[0;34m)\u001b[0m\u001b[0;34m\u001b[0m\u001b[0;34m\u001b[0m\u001b[0m\n\u001b[0m\u001b[1;32m     19\u001b[0m \u001b[0;34m\u001b[0m\u001b[0m\n\u001b[1;32m     20\u001b[0m \u001b[0mplt\u001b[0m\u001b[0;34m.\u001b[0m\u001b[0mfigure\u001b[0m\u001b[0;34m(\u001b[0m\u001b[0;34m)\u001b[0m\u001b[0;34m\u001b[0m\u001b[0;34m\u001b[0m\u001b[0m\n",
            "\u001b[0;32m<ipython-input-22-d8082f355b2e>\u001b[0m in \u001b[0;36mfit\u001b[0;34m(self, X, y, batch_size, epoch, test_data)\u001b[0m\n\u001b[1;32m     82\u001b[0m                     \u001b[0mlayer_output\u001b[0m\u001b[0;34m.\u001b[0m\u001b[0mappend\u001b[0m\u001b[0;34m(\u001b[0m\u001b[0mlayer\u001b[0m\u001b[0;34m(\u001b[0m\u001b[0mlayer_output\u001b[0m\u001b[0;34m[\u001b[0m\u001b[0;34m-\u001b[0m\u001b[0;36m1\u001b[0m\u001b[0;34m]\u001b[0m\u001b[0;34m)\u001b[0m\u001b[0;34m)\u001b[0m\u001b[0;34m\u001b[0m\u001b[0;34m\u001b[0m\u001b[0m\n\u001b[1;32m     83\u001b[0m \u001b[0;34m\u001b[0m\u001b[0m\n\u001b[0;32m---> 84\u001b[0;31m                 \u001b[0mdelta_next\u001b[0m \u001b[0;34m=\u001b[0m \u001b[0mself\u001b[0m\u001b[0;34m.\u001b[0m\u001b[0mloss\u001b[0m\u001b[0;34m.\u001b[0m\u001b[0mderivative\u001b[0m\u001b[0;34m(\u001b[0m\u001b[0mlayer_output\u001b[0m\u001b[0;34m[\u001b[0m\u001b[0;34m-\u001b[0m\u001b[0;36m1\u001b[0m\u001b[0;34m]\u001b[0m\u001b[0;34m,\u001b[0m \u001b[0my_batch\u001b[0m\u001b[0;34m)\u001b[0m\u001b[0;34m\u001b[0m\u001b[0;34m\u001b[0m\u001b[0m\n\u001b[0m\u001b[1;32m     85\u001b[0m                 \u001b[0;32mif\u001b[0m \u001b[0;32mnot\u001b[0m \u001b[0mself\u001b[0m\u001b[0;34m.\u001b[0m\u001b[0mremove_last_layer_activation\u001b[0m\u001b[0;34m:\u001b[0m\u001b[0;34m\u001b[0m\u001b[0;34m\u001b[0m\u001b[0m\n\u001b[1;32m     86\u001b[0m                     \u001b[0mdelta_next\u001b[0m \u001b[0;34m*=\u001b[0m \u001b[0mself\u001b[0m\u001b[0;34m.\u001b[0m\u001b[0mlayers\u001b[0m\u001b[0;34m[\u001b[0m\u001b[0;34m-\u001b[0m\u001b[0;36m1\u001b[0m\u001b[0;34m]\u001b[0m\u001b[0;34m.\u001b[0m\u001b[0mactivation\u001b[0m\u001b[0;34m.\u001b[0m\u001b[0mderivative\u001b[0m\u001b[0;34m(\u001b[0m\u001b[0mlayer_output\u001b[0m\u001b[0;34m[\u001b[0m\u001b[0;34m-\u001b[0m\u001b[0;36m1\u001b[0m\u001b[0;34m]\u001b[0m\u001b[0;34m)\u001b[0m\u001b[0;34m\u001b[0m\u001b[0;34m\u001b[0m\u001b[0m\n",
            "\u001b[0;32m<ipython-input-21-de1730a7bfd6>\u001b[0m in \u001b[0;36mderivative_softmax\u001b[0;34m(self, h, y)\u001b[0m\n\u001b[1;32m     33\u001b[0m \u001b[0;34m\u001b[0m\u001b[0m\n\u001b[1;32m     34\u001b[0m     \u001b[0;32mdef\u001b[0m \u001b[0mderivative_softmax\u001b[0m\u001b[0;34m(\u001b[0m\u001b[0mself\u001b[0m\u001b[0;34m,\u001b[0m \u001b[0mh\u001b[0m\u001b[0;34m,\u001b[0m \u001b[0my\u001b[0m\u001b[0;34m)\u001b[0m\u001b[0;34m:\u001b[0m\u001b[0;34m\u001b[0m\u001b[0;34m\u001b[0m\u001b[0m\n\u001b[0;32m---> 35\u001b[0;31m         \u001b[0;32mreturn\u001b[0m \u001b[0mh\u001b[0m \u001b[0;34m-\u001b[0m \u001b[0my\u001b[0m\u001b[0;34m\u001b[0m\u001b[0;34m\u001b[0m\u001b[0m\n\u001b[0m\u001b[1;32m     36\u001b[0m \u001b[0;34m\u001b[0m\u001b[0m\n\u001b[1;32m     37\u001b[0m     \u001b[0;32mdef\u001b[0m \u001b[0mget_loss\u001b[0m\u001b[0;34m(\u001b[0m\u001b[0mself\u001b[0m\u001b[0;34m,\u001b[0m \u001b[0mh\u001b[0m\u001b[0;34m,\u001b[0m \u001b[0my\u001b[0m\u001b[0;34m)\u001b[0m\u001b[0;34m:\u001b[0m\u001b[0;34m\u001b[0m\u001b[0;34m\u001b[0m\u001b[0m\n",
            "\u001b[0;31mValueError\u001b[0m: operands could not be broadcast together with shapes (64,10) (64,) "
          ]
        }
      ]
    },
    {
      "cell_type": "code",
      "metadata": {
        "id": "94r6IyKncKOH",
        "colab": {
          "base_uri": "https://localhost:8080/",
          "height": 707
        },
        "outputId": "cc2818a1-67b8-4862-f85a-b917c1f0f215"
      },
      "source": [
        "# this code is an example of how to use Models\n",
        "\n",
        "\n",
        "model = Sequential()\n",
        "model.add(Dense(100, 'relu', input_dim=X_train.shape[1]))  # firs layer, 400 neurons with relu activation function\n",
        "#model.add(Dense(200, 'sigmoid'))  # second layer, 200 neurons with sigmoid activation function\n",
        "#model.add(Dense(100, 'tanh'))  # third layer, 100 neurons with tanh activation function\n",
        "#model.add(Dense(50, 'linear'))  # fourth layer, 50 neurons with linear activation function\n",
        "model.add(Dense(10, 'softmax'))  # fifth layer, 10 neurons with softmax activation function (output)\n",
        "\n",
        "model.compile(loss='cross_entropy', optimizer='sgd', regularization=None)\n",
        "\n",
        "model.summary()\n",
        "\n",
        "history = model.fit(X_train, y_train, epoch=10, batch_size=64, test_data=(X_test, y_test))\n",
        "\n",
        "plt.figure()\n",
        "plt.subplot(1, 2, 1)\n",
        "plt.title('acc')\n",
        "plt.plot(history['acc'], 'b-o', label='Train')\n",
        "plt.plot(history['val_acc'], 'r--o', label='Test')\n",
        "plt.grid()\n",
        "plt.legend()\n",
        "\n",
        "plt.subplot(1, 2, 1)\n",
        "plt.title('loss')\n",
        "plt.plot(history['loss'], 'b-o', label='Train')\n",
        "plt.plot(history['val_loss'], 'r--o', label='Test')\n",
        "plt.grid()\n",
        "plt.legend()\n",
        "\n",
        "plt.show()"
      ],
      "execution_count": null,
      "outputs": [
        {
          "output_type": "stream",
          "name": "stdout",
          "text": [
            "_________________________________________________________________\n",
            "Layer (type)                 Output Shape              Param #\n",
            "=================================================================\n",
            "Input                        (None, 2)                 0\n",
            "-----------------------------------------------------------------\n",
            "dense_1 (Dense)              (None, 100)               300\n",
            "-----------------------------------------------------------------\n",
            "dense_2 (Dense)              (None, 10)                1010\n",
            "-----------------------------------------------------------------\n",
            "Total params: 1310\n",
            "Trainable params: 1310\n",
            "Non-trainable params: 0\n",
            "_________________________________________________________________\n",
            "Optimizer : SGD\n",
            "-----------------------------------------------------------------\n",
            "\n",
            "\n",
            "Epoch 1\n"
          ]
        },
        {
          "output_type": "error",
          "ename": "ValueError",
          "evalue": "ignored",
          "traceback": [
            "\u001b[0;31m---------------------------------------------------------------------------\u001b[0m",
            "\u001b[0;31mValueError\u001b[0m                                Traceback (most recent call last)",
            "\u001b[0;32m<ipython-input-80-5f280338c8ce>\u001b[0m in \u001b[0;36m<module>\u001b[0;34m()\u001b[0m\n\u001b[1;32m     13\u001b[0m \u001b[0mmodel\u001b[0m\u001b[0;34m.\u001b[0m\u001b[0msummary\u001b[0m\u001b[0;34m(\u001b[0m\u001b[0;34m)\u001b[0m\u001b[0;34m\u001b[0m\u001b[0;34m\u001b[0m\u001b[0m\n\u001b[1;32m     14\u001b[0m \u001b[0;34m\u001b[0m\u001b[0m\n\u001b[0;32m---> 15\u001b[0;31m \u001b[0mhistory\u001b[0m \u001b[0;34m=\u001b[0m \u001b[0mmodel\u001b[0m\u001b[0;34m.\u001b[0m\u001b[0mfit\u001b[0m\u001b[0;34m(\u001b[0m\u001b[0mX_train\u001b[0m\u001b[0;34m,\u001b[0m \u001b[0my_train\u001b[0m\u001b[0;34m,\u001b[0m \u001b[0mepoch\u001b[0m\u001b[0;34m=\u001b[0m\u001b[0;36m10\u001b[0m\u001b[0;34m,\u001b[0m \u001b[0mbatch_size\u001b[0m\u001b[0;34m=\u001b[0m\u001b[0;36m64\u001b[0m\u001b[0;34m,\u001b[0m \u001b[0mtest_data\u001b[0m\u001b[0;34m=\u001b[0m\u001b[0;34m(\u001b[0m\u001b[0mX_test\u001b[0m\u001b[0;34m,\u001b[0m \u001b[0my_test\u001b[0m\u001b[0;34m)\u001b[0m\u001b[0;34m)\u001b[0m\u001b[0;34m\u001b[0m\u001b[0;34m\u001b[0m\u001b[0m\n\u001b[0m\u001b[1;32m     16\u001b[0m \u001b[0;34m\u001b[0m\u001b[0m\n\u001b[1;32m     17\u001b[0m \u001b[0mplt\u001b[0m\u001b[0;34m.\u001b[0m\u001b[0mfigure\u001b[0m\u001b[0;34m(\u001b[0m\u001b[0;34m)\u001b[0m\u001b[0;34m\u001b[0m\u001b[0;34m\u001b[0m\u001b[0m\n",
            "\u001b[0;32m<ipython-input-22-d8082f355b2e>\u001b[0m in \u001b[0;36mfit\u001b[0;34m(self, X, y, batch_size, epoch, test_data)\u001b[0m\n\u001b[1;32m     82\u001b[0m                     \u001b[0mlayer_output\u001b[0m\u001b[0;34m.\u001b[0m\u001b[0mappend\u001b[0m\u001b[0;34m(\u001b[0m\u001b[0mlayer\u001b[0m\u001b[0;34m(\u001b[0m\u001b[0mlayer_output\u001b[0m\u001b[0;34m[\u001b[0m\u001b[0;34m-\u001b[0m\u001b[0;36m1\u001b[0m\u001b[0;34m]\u001b[0m\u001b[0;34m)\u001b[0m\u001b[0;34m)\u001b[0m\u001b[0;34m\u001b[0m\u001b[0;34m\u001b[0m\u001b[0m\n\u001b[1;32m     83\u001b[0m \u001b[0;34m\u001b[0m\u001b[0m\n\u001b[0;32m---> 84\u001b[0;31m                 \u001b[0mdelta_next\u001b[0m \u001b[0;34m=\u001b[0m \u001b[0mself\u001b[0m\u001b[0;34m.\u001b[0m\u001b[0mloss\u001b[0m\u001b[0;34m.\u001b[0m\u001b[0mderivative\u001b[0m\u001b[0;34m(\u001b[0m\u001b[0mlayer_output\u001b[0m\u001b[0;34m[\u001b[0m\u001b[0;34m-\u001b[0m\u001b[0;36m1\u001b[0m\u001b[0;34m]\u001b[0m\u001b[0;34m,\u001b[0m \u001b[0my_batch\u001b[0m\u001b[0;34m)\u001b[0m\u001b[0;34m\u001b[0m\u001b[0;34m\u001b[0m\u001b[0m\n\u001b[0m\u001b[1;32m     85\u001b[0m                 \u001b[0;32mif\u001b[0m \u001b[0;32mnot\u001b[0m \u001b[0mself\u001b[0m\u001b[0;34m.\u001b[0m\u001b[0mremove_last_layer_activation\u001b[0m\u001b[0;34m:\u001b[0m\u001b[0;34m\u001b[0m\u001b[0;34m\u001b[0m\u001b[0m\n\u001b[1;32m     86\u001b[0m                     \u001b[0mdelta_next\u001b[0m \u001b[0;34m*=\u001b[0m \u001b[0mself\u001b[0m\u001b[0;34m.\u001b[0m\u001b[0mlayers\u001b[0m\u001b[0;34m[\u001b[0m\u001b[0;34m-\u001b[0m\u001b[0;36m1\u001b[0m\u001b[0;34m]\u001b[0m\u001b[0;34m.\u001b[0m\u001b[0mactivation\u001b[0m\u001b[0;34m.\u001b[0m\u001b[0mderivative\u001b[0m\u001b[0;34m(\u001b[0m\u001b[0mlayer_output\u001b[0m\u001b[0;34m[\u001b[0m\u001b[0;34m-\u001b[0m\u001b[0;36m1\u001b[0m\u001b[0;34m]\u001b[0m\u001b[0;34m)\u001b[0m\u001b[0;34m\u001b[0m\u001b[0;34m\u001b[0m\u001b[0m\n",
            "\u001b[0;32m<ipython-input-21-de1730a7bfd6>\u001b[0m in \u001b[0;36mderivative_softmax\u001b[0;34m(self, h, y)\u001b[0m\n\u001b[1;32m     33\u001b[0m \u001b[0;34m\u001b[0m\u001b[0m\n\u001b[1;32m     34\u001b[0m     \u001b[0;32mdef\u001b[0m \u001b[0mderivative_softmax\u001b[0m\u001b[0;34m(\u001b[0m\u001b[0mself\u001b[0m\u001b[0;34m,\u001b[0m \u001b[0mh\u001b[0m\u001b[0;34m,\u001b[0m \u001b[0my\u001b[0m\u001b[0;34m)\u001b[0m\u001b[0;34m:\u001b[0m\u001b[0;34m\u001b[0m\u001b[0;34m\u001b[0m\u001b[0m\n\u001b[0;32m---> 35\u001b[0;31m         \u001b[0;32mreturn\u001b[0m \u001b[0mh\u001b[0m \u001b[0;34m-\u001b[0m \u001b[0my\u001b[0m\u001b[0;34m\u001b[0m\u001b[0;34m\u001b[0m\u001b[0m\n\u001b[0m\u001b[1;32m     36\u001b[0m \u001b[0;34m\u001b[0m\u001b[0m\n\u001b[1;32m     37\u001b[0m     \u001b[0;32mdef\u001b[0m \u001b[0mget_loss\u001b[0m\u001b[0;34m(\u001b[0m\u001b[0mself\u001b[0m\u001b[0;34m,\u001b[0m \u001b[0mh\u001b[0m\u001b[0;34m,\u001b[0m \u001b[0my\u001b[0m\u001b[0;34m)\u001b[0m\u001b[0;34m:\u001b[0m\u001b[0;34m\u001b[0m\u001b[0;34m\u001b[0m\u001b[0m\n",
            "\u001b[0;31mValueError\u001b[0m: operands could not be broadcast together with shapes (64,10) (64,) "
          ]
        }
      ]
    },
    {
      "cell_type": "code",
      "metadata": {
        "id": "vgDiwj1O7Qp6"
      },
      "source": [
        "plt.figure()\n",
        "plt.subplot(1, 2, 1)\n",
        "plt.title('acc')\n",
        "plt.plot(history['acc'], 'b-o', label='Train')\n",
        "plt.plot(history['val_acc'], 'r--o', label='Test')\n",
        "plt.grid()\n",
        "plt.legend()\n",
        "\n",
        "plt.subplot(1, 2, 2)\n",
        "plt.title('loss')\n",
        "plt.plot(history['loss'], 'b-o', label='Train')\n",
        "plt.plot(history['val_loss'], 'r--o', label='Test')\n",
        "plt.grid()\n",
        "plt.legend()\n",
        "\n",
        "plt.show()"
      ],
      "execution_count": null,
      "outputs": []
    }
  ]
}